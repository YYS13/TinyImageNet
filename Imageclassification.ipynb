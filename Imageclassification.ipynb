{
 "cells": [
  {
   "cell_type": "code",
   "execution_count": 1,
   "metadata": {},
   "outputs": [],
   "source": [
    "import os\n",
    "dd=os.listdir('TIN')\n",
    "f1 = open('train.txt', 'w')\n",
    "f2 = open('test.txt', 'w')\n",
    "for i in range(len(dd)):\n",
    "    d2 = os.listdir ('TIN/%s/images/'%(dd[i]))\n",
    "    for j in range(len(d2)-2):\n",
    "        str1='TIN/%s/images/%s'%(dd[i], d2[j])\n",
    "        f1.write(\"%s %d\\n\" % (str1, i))\n",
    "    str1='TIN/%s/images/%s'%(dd[i], d2[-1])\n",
    "    f2.write(\"%s %d\\n\" % (str1, i))\n",
    "\n",
    "f1.close()\n",
    "f2.close()"
   ]
  },
  {
   "cell_type": "code",
   "execution_count": 11,
   "metadata": {},
   "outputs": [],
   "source": [
    "import cv2 \n",
    "import numpy as np\n",
    "from numpy import linalg as LA\n",
    "import matplotlib.pyplot as plt\n",
    "from skimage.feature import hog\n",
    "# load labels\n",
    "def load_label(f):\n",
    "    f=open(f)\n",
    "    labels = []\n",
    "    lines=f.readlines()\n",
    "    for i in range(len(lines)):\n",
    "        fn, label = lines[i].split(\" \")\n",
    "        labels.append(int(label))\n",
    "    labels = np.asarray(labels, np.int32)\n",
    "    return labels\n",
    "# load images + feature extraction\n",
    "def load_img(f, type):\n",
    "    f=open(f)\n",
    "    lines=f.readlines()\n",
    "    imgs = []\n",
    "    print(\"loading images\\n\")\n",
    "    for i in range(len(lines)):\n",
    "        fn, label = lines[i].split(' ')\n",
    "        \n",
    "        im1=cv2.imread(fn)\n",
    "        im1=cv2.resize(im1, (256,256))\n",
    "        im1 = cv2.cvtColor(im1, cv2.COLOR_BGR2GRAY)\n",
    "        if type == \"CH\":\n",
    "            # ColorHistogram\n",
    "            im1 = cv2.calcHist([im1], [0], None, [256], [0, 256])\n",
    "        elif type == \"SIFT\":\n",
    "            #SIFT\n",
    "            return 0\n",
    "        else:\n",
    "            # HOG Feature Extraction\n",
    "            im1 = hog(im1, orientations=9, pixels_per_cell= (8, 8), cells_per_block=(2, 2), block_norm=\"L2\", transform_sqrt = True)\n",
    "        \n",
    "        \n",
    "        vec = np.reshape(im1, [-1])\n",
    "        imgs.append(vec)  \n",
    "    imgs= np.asarray(imgs, np.float32)\n",
    "    return imgs"
   ]
  },
  {
   "cell_type": "code",
   "execution_count": 7,
   "metadata": {},
   "outputs": [],
   "source": [
    "train_y = load_label('train.txt')\n",
    "test_y = load_label('test.txt')"
   ]
  },
  {
   "cell_type": "code",
   "execution_count": 8,
   "metadata": {},
   "outputs": [
    {
     "name": "stdout",
     "output_type": "stream",
     "text": [
      "loading images\n",
      "\n",
      "loading images\n",
      "\n"
     ]
    }
   ],
   "source": [
    "hist_train_x = load_img('train.txt', \"CH\")\n",
    "hist_test_x= load_img('test.txt',\"CH\")"
   ]
  },
  {
   "cell_type": "code",
   "execution_count": 9,
   "metadata": {},
   "outputs": [
    {
     "name": "stdout",
     "output_type": "stream",
     "text": [
      "65536.0\n"
     ]
    },
    {
     "data": {
      "text/plain": [
       "(99600, 256)"
      ]
     },
     "execution_count": 9,
     "metadata": {},
     "output_type": "execute_result"
    }
   ],
   "source": [
    "print(sum(hist_train_x[0]))\n",
    "hist_train_x.shape"
   ]
  },
  {
   "cell_type": "code",
   "execution_count": 12,
   "metadata": {},
   "outputs": [
    {
     "name": "stdout",
     "output_type": "stream",
     "text": [
      "loading images\n",
      "\n"
     ]
    }
   ],
   "source": [
    "hog_train_x = load_img('train.txt', \"HOG\")\n",
    "hog_test_x= load_img('test.txt',\"HOG\")"
   ]
  },
  {
   "cell_type": "code",
   "execution_count": null,
   "metadata": {},
   "outputs": [
    {
     "name": "stdout",
     "output_type": "stream",
     "text": [
      "65536.0\n",
      "65536\n"
     ]
    }
   ],
   "source": [
    "hog_train_x.shape"
   ]
  },
  {
   "cell_type": "code",
   "execution_count": null,
   "metadata": {},
   "outputs": [],
   "source": []
  }
 ],
 "metadata": {
  "kernelspec": {
   "display_name": "DL",
   "language": "python",
   "name": "python3"
  },
  "language_info": {
   "codemirror_mode": {
    "name": "ipython",
    "version": 3
   },
   "file_extension": ".py",
   "mimetype": "text/x-python",
   "name": "python",
   "nbconvert_exporter": "python",
   "pygments_lexer": "ipython3",
   "version": "3.11.8"
  }
 },
 "nbformat": 4,
 "nbformat_minor": 2
}
